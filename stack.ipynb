{
 "cells": [
  {
   "cell_type": "markdown",
   "metadata": {},
   "source": [
    "# Stacks. \n",
    "Stack is an abstract data structure in which the addition and removal of items can only occur at same end. This end is commonly called the \"top\" and the other end is call the \"base\". \n",
    "Since, items are added to the stack from one end, they are added on top of the previously added element. You can imagine stack growing from bottom to top as more and more elements are added to it. So the items near the base of the stack are the items that have been in the stack for the maximum time. Recently added items are found near the top of the stack. This odering principle is called LIFO, Last-In-First-Out and makes stacks a very good datastructure for many problems. "
   ]
  },
  {
   "cell_type": "markdown",
   "metadata": {},
   "source": [
    "### Stack implementation using linked lists"
   ]
  },
  {
   "cell_type": "code",
   "execution_count": 101,
   "metadata": {
    "collapsed": true
   },
   "outputs": [],
   "source": [
    "class Stack:\n",
    "    def __init__(self):\n",
    "        self.items = []\n",
    "    def push(self, item):\n",
    "        self.items.append(item)\n",
    "    def pop(self):\n",
    "        self.items.pop()\n",
    "    def peek(self):\n",
    "        return self.items[len(self.items)-1]\n",
    "    def isEmpty(self):\n",
    "        return self.items == []\n",
    "    def size(self):\n",
    "        return len(self.items)"
   ]
  },
  {
   "cell_type": "markdown",
   "metadata": {},
   "source": [
    "### Python implementation of Stack\n",
    "Python has an implementation of stack. It can be instantiated using Stack() function. "
   ]
  },
  {
   "cell_type": "code",
   "execution_count": 102,
   "metadata": {
    "collapsed": true
   },
   "outputs": [],
   "source": [
    "tempStack = Stack()"
   ]
  },
  {
   "cell_type": "markdown",
   "metadata": {},
   "source": [
    "### Balanced Paranthesis Problem\n",
    "Balanced paranthesis means that for each opening bracket there should be a closing bracket and the brackets should be nested properly. \n",
    "\n",
    "((())), ()(())(((()))) - Examples of proper nesting\n",
    "\n",
    "(())), ))(( - Examples of improper nesting.\n",
    "\n",
    "Write a python prgram (Using stacks) that takes in a string of opening and closing paranthesis and returns if it is balanced."
   ]
  },
  {
   "cell_type": "code",
   "execution_count": 103,
   "metadata": {
    "collapsed": true
   },
   "outputs": [],
   "source": [
    "def isBalanced(symbolString):\n",
    "    balanced = True\n",
    "    s = Stack()\n",
    "    idx = 0\n",
    "    while idx < len(symbolString) and balanced:\n",
    "        if symbolString[idx] == '(':\n",
    "            s.push(symbolString[idx])\n",
    "        else:\n",
    "            if s.isEmpty():\n",
    "                balanced = False\n",
    "            else:\n",
    "                s.pop()\n",
    "        idx += 1\n",
    "    if balanced and s.isEmpty:\n",
    "        return True\n",
    "    else:\n",
    "        return False"
   ]
  },
  {
   "cell_type": "code",
   "execution_count": 104,
   "metadata": {},
   "outputs": [
    {
     "name": "stdout",
     "output_type": "stream",
     "text": [
      "))(( : False\n",
      "()(())(((()))) : True\n"
     ]
    }
   ],
   "source": [
    "s1 = \"))((\"\n",
    "s2 = \"()(())(((())))\"\n",
    "print s1 + ' : ' + str(isBalanced(s1))\n",
    "print s2 + ' : ' + str(isBalanced(s2))"
   ]
  },
  {
   "cell_type": "markdown",
   "metadata": {},
   "source": [
    "#### Without Using stacks:"
   ]
  },
  {
   "cell_type": "code",
   "execution_count": 105,
   "metadata": {
    "collapsed": true
   },
   "outputs": [],
   "source": [
    "def isBalanced_v1(symbolString):\n",
    "    balanced = 0\n",
    "    idx = 0\n",
    "    while idx < len(symbolString) and balanced >= 0:\n",
    "        if symbolString[idx] == '(':\n",
    "            balanced += 1\n",
    "        else:\n",
    "            balanced -= 1\n",
    "        idx += 1\n",
    "    return True if balanced == 0 else False\n",
    "            "
   ]
  },
  {
   "cell_type": "code",
   "execution_count": 106,
   "metadata": {},
   "outputs": [
    {
     "name": "stdout",
     "output_type": "stream",
     "text": [
      "))(( : False\n",
      "()(())(((()))) : True\n"
     ]
    }
   ],
   "source": [
    "s1 = \"))((\"\n",
    "s2 = \"()(())(((())))\"\n",
    "print s1 + ' : ' + str(isBalanced_v1(s1))\n",
    "print s2 + ' : ' + str(isBalanced_v1(s2))"
   ]
  },
  {
   "cell_type": "markdown",
   "metadata": {},
   "source": [
    "### Balanced Symbols (A general case)\n",
    "Lets now make the previous problem a generalized one , i.e. there can be various kindly of brackets: (), {}, [].\n",
    "We need to deteremine if its balanced considering each of them separately. \n",
    "\n",
    "Example of proper nesting: { } [ ( ) ( ) ( ( ) ) { } ] { { [ [ ] ] } }\n",
    "\n",
    "Example of impropoer nesting: { ] { ] [ ] ( )"
   ]
  },
  {
   "cell_type": "code",
   "execution_count": 107,
   "metadata": {
    "collapsed": true
   },
   "outputs": [],
   "source": [
    "def isBalanced_gen(symbolString):\n",
    "    balanced = True\n",
    "    s = Stack()\n",
    "    idx = 0\n",
    "    while idx < len(symbolString) and balanced:\n",
    "        symbol = symbolString[idx]\n",
    "        if symbol in \"({[\":\n",
    "            s.push(symbol)\n",
    "        else:\n",
    "            if s.isEmpty():\n",
    "                balanced = False\n",
    "            else:\n",
    "                top = s.pop()\n",
    "                if not matchSymbol(top, symbol):\n",
    "                    balanced = False\n",
    "        idx += 1\n",
    "    if balanced and s.isEmpty:\n",
    "        return True\n",
    "    else: \n",
    "        return False\n",
    "    \n",
    "def matchSymbol(opens,close):\n",
    "    if (opens + close == '()') or (opens + close == '{}') or (opens + close == '[]'):\n",
    "        return True\n",
    "    else:\n",
    "        return False"
   ]
  },
  {
   "cell_type": "code",
   "execution_count": 108,
   "metadata": {
    "scrolled": false
   },
   "outputs": [
    {
     "ename": "TypeError",
     "evalue": "unsupported operand type(s) for +: 'NoneType' and 'str'",
     "output_type": "error",
     "traceback": [
      "\u001b[0;31m---------------------------------------------------------------------------\u001b[0m",
      "\u001b[0;31mTypeError\u001b[0m                                 Traceback (most recent call last)",
      "\u001b[0;32m<ipython-input-108-7cb53996d87c>\u001b[0m in \u001b[0;36m<module>\u001b[0;34m()\u001b[0m\n\u001b[1;32m      1\u001b[0m \u001b[0ms1\u001b[0m \u001b[0;34m=\u001b[0m \u001b[0;34m\"{}[()()(()){}]{{[[]]}}\"\u001b[0m\u001b[0;34m\u001b[0m\u001b[0m\n\u001b[1;32m      2\u001b[0m \u001b[0ms2\u001b[0m \u001b[0;34m=\u001b[0m \u001b[0;34m\"{]{][]()\"\u001b[0m\u001b[0;34m\u001b[0m\u001b[0m\n\u001b[0;32m----> 3\u001b[0;31m \u001b[0;32mprint\u001b[0m \u001b[0ms1\u001b[0m \u001b[0;34m+\u001b[0m \u001b[0;34m' : '\u001b[0m \u001b[0;34m+\u001b[0m \u001b[0mstr\u001b[0m\u001b[0;34m(\u001b[0m\u001b[0misBalanced_gen\u001b[0m\u001b[0;34m(\u001b[0m\u001b[0ms1\u001b[0m\u001b[0;34m)\u001b[0m\u001b[0;34m)\u001b[0m\u001b[0;34m\u001b[0m\u001b[0m\n\u001b[0m\u001b[1;32m      4\u001b[0m \u001b[0;32mprint\u001b[0m \u001b[0ms2\u001b[0m \u001b[0;34m+\u001b[0m \u001b[0;34m' : '\u001b[0m \u001b[0;34m+\u001b[0m \u001b[0mstr\u001b[0m\u001b[0;34m(\u001b[0m\u001b[0misBalanced_gen\u001b[0m\u001b[0;34m(\u001b[0m\u001b[0ms2\u001b[0m\u001b[0;34m)\u001b[0m\u001b[0;34m)\u001b[0m\u001b[0;34m\u001b[0m\u001b[0m\n",
      "\u001b[0;32m<ipython-input-107-e9cba9c19463>\u001b[0m in \u001b[0;36misBalanced_gen\u001b[0;34m(symbolString)\u001b[0m\n\u001b[1;32m     12\u001b[0m             \u001b[0;32melse\u001b[0m\u001b[0;34m:\u001b[0m\u001b[0;34m\u001b[0m\u001b[0m\n\u001b[1;32m     13\u001b[0m                 \u001b[0mtop\u001b[0m \u001b[0;34m=\u001b[0m \u001b[0ms\u001b[0m\u001b[0;34m.\u001b[0m\u001b[0mpop\u001b[0m\u001b[0;34m(\u001b[0m\u001b[0;34m)\u001b[0m\u001b[0;34m\u001b[0m\u001b[0m\n\u001b[0;32m---> 14\u001b[0;31m                 \u001b[0;32mif\u001b[0m \u001b[0;32mnot\u001b[0m \u001b[0mmatchSymbol\u001b[0m\u001b[0;34m(\u001b[0m\u001b[0mtop\u001b[0m\u001b[0;34m,\u001b[0m \u001b[0msymbol\u001b[0m\u001b[0;34m)\u001b[0m\u001b[0;34m:\u001b[0m\u001b[0;34m\u001b[0m\u001b[0m\n\u001b[0m\u001b[1;32m     15\u001b[0m                     \u001b[0mbalanced\u001b[0m \u001b[0;34m=\u001b[0m \u001b[0mFalse\u001b[0m\u001b[0;34m\u001b[0m\u001b[0m\n\u001b[1;32m     16\u001b[0m         \u001b[0midx\u001b[0m \u001b[0;34m+=\u001b[0m \u001b[0;36m1\u001b[0m\u001b[0;34m\u001b[0m\u001b[0m\n",
      "\u001b[0;32m<ipython-input-107-e9cba9c19463>\u001b[0m in \u001b[0;36mmatchSymbol\u001b[0;34m(opens, close)\u001b[0m\n\u001b[1;32m     21\u001b[0m \u001b[0;34m\u001b[0m\u001b[0m\n\u001b[1;32m     22\u001b[0m \u001b[0;32mdef\u001b[0m \u001b[0mmatchSymbol\u001b[0m\u001b[0;34m(\u001b[0m\u001b[0mopens\u001b[0m\u001b[0;34m,\u001b[0m\u001b[0mclose\u001b[0m\u001b[0;34m)\u001b[0m\u001b[0;34m:\u001b[0m\u001b[0;34m\u001b[0m\u001b[0m\n\u001b[0;32m---> 23\u001b[0;31m     \u001b[0;32mif\u001b[0m \u001b[0;34m(\u001b[0m\u001b[0mopens\u001b[0m \u001b[0;34m+\u001b[0m \u001b[0mclose\u001b[0m \u001b[0;34m==\u001b[0m \u001b[0;34m'()'\u001b[0m\u001b[0;34m)\u001b[0m \u001b[0;32mor\u001b[0m \u001b[0;34m(\u001b[0m\u001b[0mopens\u001b[0m \u001b[0;34m+\u001b[0m \u001b[0mclose\u001b[0m \u001b[0;34m==\u001b[0m \u001b[0;34m'{}'\u001b[0m\u001b[0;34m)\u001b[0m \u001b[0;32mor\u001b[0m \u001b[0;34m(\u001b[0m\u001b[0mopens\u001b[0m \u001b[0;34m+\u001b[0m \u001b[0mclose\u001b[0m \u001b[0;34m==\u001b[0m \u001b[0;34m'[]'\u001b[0m\u001b[0;34m)\u001b[0m\u001b[0;34m:\u001b[0m\u001b[0;34m\u001b[0m\u001b[0m\n\u001b[0m\u001b[1;32m     24\u001b[0m         \u001b[0;32mreturn\u001b[0m \u001b[0mTrue\u001b[0m\u001b[0;34m\u001b[0m\u001b[0m\n\u001b[1;32m     25\u001b[0m     \u001b[0;32melse\u001b[0m\u001b[0;34m:\u001b[0m\u001b[0;34m\u001b[0m\u001b[0m\n",
      "\u001b[0;31mTypeError\u001b[0m: unsupported operand type(s) for +: 'NoneType' and 'str'"
     ]
    }
   ],
   "source": [
    "s1 = \"{}[()()(()){}]{{[[]]}}\"\n",
    "s2 = \"{]{][]()\"\n",
    "print s1 + ' : ' + str(isBalanced_gen(s1))\n",
    "print s2 + ' : ' + str(isBalanced_gen(s2))"
   ]
  }
 ],
 "metadata": {
  "kernelspec": {
   "display_name": "Python 2",
   "language": "python",
   "name": "python2"
  },
  "language_info": {
   "codemirror_mode": {
    "name": "ipython",
    "version": 2
   },
   "file_extension": ".py",
   "mimetype": "text/x-python",
   "name": "python",
   "nbconvert_exporter": "python",
   "pygments_lexer": "ipython2",
   "version": "2.7.10"
  }
 },
 "nbformat": 4,
 "nbformat_minor": 1
}
