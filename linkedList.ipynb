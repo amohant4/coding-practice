{
 "cells": [
  {
   "cell_type": "markdown",
   "metadata": {},
   "source": [
    "# Singly Linked lists. \n",
    "\n",
    "Linked lists are linear datastructres like arrays. However unlike arrays, consicutive elements in linked lists are not stored in consecutive memory locations. "
   ]
  },
  {
   "cell_type": "markdown",
   "metadata": {},
   "source": [
    "### Class for nodes in the linked list\n",
    "Each Node in a linked list stores two things (1) data : the key to be stored in a linked list, (2) next : pointer to the next node in the linked list. Since each element stores the location of the next node (and not the previous node) we can traverse the list only in one direction (from head to the end). Also random access using index is not possible in linked lists."
   ]
  },
  {
   "cell_type": "code",
   "execution_count": 49,
   "metadata": {
    "collapsed": true
   },
   "outputs": [],
   "source": [
    "class listNode:\n",
    "    def __init__(self, data):\n",
    "        self.next = None    # Pointer to the next node in the list.\n",
    "        self.data = data    # Data (key) to be stored in the node.\n",
    "        \n",
    "class LinkedList:\n",
    "    def __init__(self):\n",
    "        self.head = None    # Pointer to the head of the list    "
   ]
  },
  {
   "cell_type": "markdown",
   "metadata": {},
   "source": [
    "### Interating over a Linked list\n",
    "Start from the head and go to each of the nodes using the \"next\" pointer of the previous nodes. Do this till you find the last node in the list (when the next point of the node is None) "
   ]
  },
  {
   "cell_type": "code",
   "execution_count": 50,
   "metadata": {
    "collapsed": true
   },
   "outputs": [],
   "source": [
    "def printList(linkedList):\n",
    "    tmp = linkedList.head\n",
    "    while(tmp):\n",
    "        print tmp.data    # Keep going to the next nodes till the next node becomes None. \n",
    "        tmp = tmp.next"
   ]
  },
  {
   "cell_type": "code",
   "execution_count": 51,
   "metadata": {
    "scrolled": false
   },
   "outputs": [
    {
     "name": "stdout",
     "output_type": "stream",
     "text": [
      "1\n",
      "2\n",
      "3\n"
     ]
    }
   ],
   "source": [
    "ll = LinkedList()\n",
    "node1 = listNode(1)\n",
    "node2 = listNode(2)\n",
    "node3 = listNode(3)\n",
    "\n",
    "ll.head = node1\n",
    "node1.next = node2\n",
    "node2.next = node3\n",
    "\n",
    "printList(ll)"
   ]
  },
  {
   "cell_type": "markdown",
   "metadata": {},
   "source": [
    "### Insert node at the start of the list\n",
    "We create a new list node and put the given data in it. Then we point the next pointer of the new node to the current head of the list. After that we change the current head of the list to point to the newly created node."
   ]
  },
  {
   "cell_type": "code",
   "execution_count": 52,
   "metadata": {
    "collapsed": true
   },
   "outputs": [],
   "source": [
    "def push(linkedList, data):\n",
    "    newNode = listNode(data)\n",
    "    newNode.next = linkedList.head\n",
    "    linkedList.head = newNode"
   ]
  },
  {
   "cell_type": "code",
   "execution_count": 53,
   "metadata": {
    "scrolled": true
   },
   "outputs": [
    {
     "name": "stdout",
     "output_type": "stream",
     "text": [
      "0\n",
      "1\n",
      "2\n",
      "3\n"
     ]
    }
   ],
   "source": [
    "push(ll, 0)\n",
    "printList(ll)"
   ]
  },
  {
   "cell_type": "markdown",
   "metadata": {},
   "source": [
    "### Insert node after a given node"
   ]
  },
  {
   "cell_type": "code",
   "execution_count": 54,
   "metadata": {
    "collapsed": true
   },
   "outputs": [],
   "source": [
    "def insertAfter(prev, data):\n",
    "    if prev is None:\n",
    "        print 'Node should be a part of the list !'\n",
    "        return\n",
    "    newNode = listNode(data) \n",
    "    newNode.next = prev.next\n",
    "    prev.next = newNode"
   ]
  },
  {
   "cell_type": "code",
   "execution_count": 55,
   "metadata": {},
   "outputs": [
    {
     "name": "stdout",
     "output_type": "stream",
     "text": [
      "0\n",
      "1\n",
      "2\n",
      "99\n",
      "3\n"
     ]
    }
   ],
   "source": [
    "insertAfter(node2, 99)\n",
    "printList(ll)"
   ]
  },
  {
   "cell_type": "markdown",
   "metadata": {},
   "source": [
    "### Insert node at the end of a list\n",
    "Iterate the list starting from the head and find the last node. Create a new node, put the data in it and modify the next pointer of the last node to point to the newly created node."
   ]
  },
  {
   "cell_type": "code",
   "execution_count": 56,
   "metadata": {
    "collapsed": true
   },
   "outputs": [],
   "source": [
    "def append(linkedList, data):\n",
    "    newNode = listNode(data)\n",
    "    if linkedList.head is None:  # Check if the list is empty. \n",
    "        linkedList.head = newNode\n",
    "    last = linkedList.head       # Begin iterating the list starting from the head. \n",
    "    while(last.next):\n",
    "        last = last.next\n",
    "    last.next = newNode"
   ]
  },
  {
   "cell_type": "code",
   "execution_count": 57,
   "metadata": {},
   "outputs": [
    {
     "name": "stdout",
     "output_type": "stream",
     "text": [
      "0\n",
      "1\n",
      "2\n",
      "99\n",
      "3\n",
      "4\n",
      "5\n"
     ]
    }
   ],
   "source": [
    "append(ll, 4)\n",
    "append(ll, 5)\n",
    "printList(ll)"
   ]
  },
  {
   "cell_type": "markdown",
   "metadata": {},
   "source": [
    "### Delete the first occurance of a given key"
   ]
  },
  {
   "cell_type": "code",
   "execution_count": 58,
   "metadata": {
    "collapsed": true
   },
   "outputs": [],
   "source": [
    "def deleteNode(linkedList, key):\n",
    "    tmp = linkedList.head\n",
    "    if (tmp is not None) and (linkedList.head.data == key):\n",
    "        linkedList.head = tmp.next\n",
    "        tmp = None\n",
    "        return\n",
    "    while tmp is not None:\n",
    "        if tmp.data == key:\n",
    "            break\n",
    "        prev = tmp\n",
    "        tmp = tmp.next\n",
    "    if tmp == None:\n",
    "        return\n",
    "    prev.next = tmp.next\n",
    "    tmp = None"
   ]
  },
  {
   "cell_type": "code",
   "execution_count": 59,
   "metadata": {},
   "outputs": [
    {
     "name": "stdout",
     "output_type": "stream",
     "text": [
      "0\n",
      "1\n",
      "2\n",
      "3\n",
      "4\n",
      "5\n"
     ]
    }
   ],
   "source": [
    "deleteNode(ll, 99)\n",
    "printList(ll)"
   ]
  },
  {
   "cell_type": "markdown",
   "metadata": {},
   "source": [
    "### Delete the node at a specific position"
   ]
  },
  {
   "cell_type": "code",
   "execution_count": 60,
   "metadata": {
    "collapsed": true
   },
   "outputs": [],
   "source": [
    "def deleteNode_position(linkedList, position):\n",
    "    if linkedList.head == None:\n",
    "        return\n",
    "    tmp = linkedList.head\n",
    "    if position == 0:\n",
    "        linkedList.head = tmp.next\n",
    "        tmp = None\n",
    "    for i in range(position-1):\n",
    "        tmp = tmp.next\n",
    "        if tmp == None:\n",
    "            break\n",
    "    if (tmp == None) or (tmp.next == None):\n",
    "        return\n",
    "    next = tmp.next.next\n",
    "    tmp.next = None\n",
    "    tmp.next = next"
   ]
  },
  {
   "cell_type": "code",
   "execution_count": 61,
   "metadata": {},
   "outputs": [
    {
     "name": "stdout",
     "output_type": "stream",
     "text": [
      "0\n",
      "1\n",
      "2\n",
      "3\n",
      "4\n"
     ]
    }
   ],
   "source": [
    "deleteNode_position(ll,5)\n",
    "printList(ll)"
   ]
  },
  {
   "cell_type": "markdown",
   "metadata": {},
   "source": [
    "### Count the number of Nodes \n",
    "#### Iterative method"
   ]
  },
  {
   "cell_type": "code",
   "execution_count": 62,
   "metadata": {
    "collapsed": true
   },
   "outputs": [],
   "source": [
    "def getCount_iterative(linkedList):\n",
    "    count = 0\n",
    "    tmp = linkedList.head\n",
    "    while(tmp):\n",
    "        count += 1\n",
    "        tmp = tmp.next\n",
    "    return count"
   ]
  },
  {
   "cell_type": "code",
   "execution_count": 63,
   "metadata": {},
   "outputs": [
    {
     "name": "stdout",
     "output_type": "stream",
     "text": [
      "5\n"
     ]
    }
   ],
   "source": [
    "print getCount_iterative(ll)"
   ]
  },
  {
   "cell_type": "markdown",
   "metadata": {},
   "source": [
    "#### Recursive method"
   ]
  },
  {
   "cell_type": "code",
   "execution_count": 68,
   "metadata": {
    "collapsed": true
   },
   "outputs": [],
   "source": [
    "def getCount_recursive(node):\n",
    "    if node is None:\n",
    "        return 0\n",
    "    return 1 + getCount_recursive(node.next)\n",
    "\n",
    "def getCount(linkedList):\n",
    "    tmp = linkedList.head\n",
    "    n = getCount_recursive(tmp)\n",
    "    return n"
   ]
  },
  {
   "cell_type": "code",
   "execution_count": 69,
   "metadata": {
    "scrolled": true
   },
   "outputs": [
    {
     "name": "stdout",
     "output_type": "stream",
     "text": [
      "5\n"
     ]
    }
   ],
   "source": [
    "print getCount(ll)"
   ]
  }
 ],
 "metadata": {
  "kernelspec": {
   "display_name": "Python 2",
   "language": "python",
   "name": "python2"
  },
  "language_info": {
   "codemirror_mode": {
    "name": "ipython",
    "version": 2
   },
   "file_extension": ".py",
   "mimetype": "text/x-python",
   "name": "python",
   "nbconvert_exporter": "python",
   "pygments_lexer": "ipython2",
   "version": "2.7.10"
  }
 },
 "nbformat": 4,
 "nbformat_minor": 1
}
